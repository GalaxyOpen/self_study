{
  "nbformat": 4,
  "nbformat_minor": 0,
  "metadata": {
    "colab": {
      "provenance": []
    },
    "kernelspec": {
      "name": "python3",
      "display_name": "Python 3"
    },
    "language_info": {
      "name": "python"
    }
  },
  "cells": [
    {
      "cell_type": "code",
      "execution_count": 2,
      "metadata": {
        "colab": {
          "base_uri": "https://localhost:8080/",
          "height": 202
        },
        "id": "LyriLjMF7Dr5",
        "outputId": "efa75f8e-2e75-4693-f080-9fbeaf5b2c7e"
      },
      "outputs": [
        {
          "output_type": "error",
          "ename": "FileNotFoundError",
          "evalue": "[Errno 2] No such file or directory: '/mnt/data/01_EDA_Modeling_User_Churn.ipynb'",
          "traceback": [
            "\u001b[0;31m---------------------------------------------------------------------------\u001b[0m",
            "\u001b[0;31mFileNotFoundError\u001b[0m                         Traceback (most recent call last)",
            "\u001b[0;32m<ipython-input-2-a4699882453a>\u001b[0m in \u001b[0;36m<cell line: 0>\u001b[0;34m()\u001b[0m\n\u001b[1;32m     73\u001b[0m \u001b[0;31m# Save the notebook\u001b[0m\u001b[0;34m\u001b[0m\u001b[0;34m\u001b[0m\u001b[0m\n\u001b[1;32m     74\u001b[0m \u001b[0mnotebook_path\u001b[0m \u001b[0;34m=\u001b[0m \u001b[0;34m\"/mnt/data/01_EDA_Modeling_User_Churn.ipynb\"\u001b[0m\u001b[0;34m\u001b[0m\u001b[0;34m\u001b[0m\u001b[0m\n\u001b[0;32m---> 75\u001b[0;31m \u001b[0;32mwith\u001b[0m \u001b[0mopen\u001b[0m\u001b[0;34m(\u001b[0m\u001b[0mnotebook_path\u001b[0m\u001b[0;34m,\u001b[0m \u001b[0;34m'w'\u001b[0m\u001b[0;34m,\u001b[0m \u001b[0mencoding\u001b[0m\u001b[0;34m=\u001b[0m\u001b[0;34m'utf-8'\u001b[0m\u001b[0;34m)\u001b[0m \u001b[0;32mas\u001b[0m \u001b[0mf\u001b[0m\u001b[0;34m:\u001b[0m\u001b[0;34m\u001b[0m\u001b[0;34m\u001b[0m\u001b[0m\n\u001b[0m\u001b[1;32m     76\u001b[0m     \u001b[0mnbf\u001b[0m\u001b[0;34m.\u001b[0m\u001b[0mwrite\u001b[0m\u001b[0;34m(\u001b[0m\u001b[0mnb\u001b[0m\u001b[0;34m,\u001b[0m \u001b[0mf\u001b[0m\u001b[0;34m)\u001b[0m\u001b[0;34m\u001b[0m\u001b[0;34m\u001b[0m\u001b[0m\n",
            "\u001b[0;31mFileNotFoundError\u001b[0m: [Errno 2] No such file or directory: '/mnt/data/01_EDA_Modeling_User_Churn.ipynb'"
          ]
        }
      ],
      "source": [
        "import nbformat as nbf\n",
        "\n",
        "# Create a new Jupyter Notebook\n",
        "nb = nbf.v4.new_notebook()\n",
        "\n",
        "# Cells content\n",
        "cells = [\n",
        "    nbf.v4.new_markdown_cell(\"# 🧪 유저 이탈 예측 분석\\n이 노트북은 유저 행동 데이터를 기반으로 이탈 여부를 예측하고, 이를 바탕으로 개선 전략을 제시합니다.\"),\n",
        "\n",
        "    nbf.v4.new_code_cell(\"\"\"# 📦 필수 라이브러리 불러오기\n",
        "import pandas as pd\n",
        "import numpy as np\n",
        "import matplotlib.pyplot as plt\n",
        "import seaborn as sns\n",
        "\n",
        "from sklearn.model_selection import train_test_split\n",
        "from sklearn.ensemble import RandomForestClassifier\n",
        "from sklearn.metrics import classification_report, confusion_matrix\n",
        "import shap\n",
        "\"\"\"),\n",
        "\n",
        "    nbf.v4.new_code_cell(\"\"\"# 📊 샘플 데이터 불러오기 (또는 생성)\n",
        "# 예시: 로그인 횟수, 방문일수, 구매횟수, 고객센터 접촉 등\n",
        "# data = pd.read_csv('user_behavior_sample.csv') # 필요 시 로컬 csv 준비\n",
        "data = pd.DataFrame({\n",
        "    'login_count': np.random.poisson(10, 200),\n",
        "    'visit_days': np.random.randint(5, 30, 200),\n",
        "    'purchases': np.random.poisson(2, 200),\n",
        "    'support_calls': np.random.binomial(1, 0.2, 200),\n",
        "    'churn': np.random.binomial(1, 0.3, 200)\n",
        "})\n",
        "data.head()\n",
        "\"\"\"),\n",
        "\n",
        "    nbf.v4.new_code_cell(\"\"\"# 🔍 결측치 및 이상치 처리\n",
        "data.info()\n",
        "data.describe()\n",
        "\"\"\"),\n",
        "\n",
        "    nbf.v4.new_code_cell(\"\"\"# 🎨 데이터 시각화\n",
        "sns.pairplot(data, hue='churn')\n",
        "plt.show()\n",
        "\"\"\"),\n",
        "\n",
        "    nbf.v4.new_code_cell(\"\"\"# ✂️ Feature / Label 분리\n",
        "X = data.drop('churn', axis=1)\n",
        "y = data['churn']\n",
        "\n",
        "X_train, X_test, y_train, y_test = train_test_split(X, y, test_size=0.2, random_state=42)\n",
        "\"\"\"),\n",
        "\n",
        "    nbf.v4.new_code_cell(\"\"\"# 🧠 모델 학습\n",
        "model = RandomForestClassifier(n_estimators=100, random_state=42)\n",
        "model.fit(X_train, y_train)\n",
        "y_pred = model.predict(X_test)\n",
        "\n",
        "print(confusion_matrix(y_test, y_pred))\n",
        "print(classification_report(y_test, y_pred))\n",
        "\"\"\"),\n",
        "\n",
        "    nbf.v4.new_code_cell(\"\"\"# 🔎 Feature 중요도 및 SHAP 분석\n",
        "explainer = shap.TreeExplainer(model)\n",
        "shap_values = explainer.shap_values(X_test)\n",
        "\n",
        "shap.summary_plot(shap_values[1], X_test)\n",
        "\"\"\"),\n",
        "\n",
        "    nbf.v4.new_markdown_cell(\"## ✅ 개선 전략 제안\\n- **고객센터 접촉이 적고 로그인 횟수가 적은 고객 → 리마인드 메시지 발송**\\n- **방문일수 급감 고객 → 할인 쿠폰 제공** 등\")\n",
        "]\n",
        "\n",
        "nb['cells'] = cells\n",
        "\n",
        "# Save the notebook\n",
        "notebook_path = \"/mnt/data/01_EDA_Modeling_User_Churn.ipynb\"\n",
        "with open(notebook_path, 'w', encoding='utf-8') as f:\n",
        "    nbf.write(nb, f)\n"
      ]
    }
  ]
}